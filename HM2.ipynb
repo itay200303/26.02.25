{
 "cells": [
  {
   "cell_type": "code",
   "execution_count": 1,
   "id": "e019bfe9-fa41-424d-95b8-4463e7c7146b",
   "metadata": {},
   "outputs": [],
   "source": [
    "import numpy as np\n",
    "from IPython.display import display"
   ]
  },
  {
   "cell_type": "code",
   "execution_count": 7,
   "id": "5ee90509-ca9a-4dce-b3b7-da4e51c46682",
   "metadata": {},
   "outputs": [
    {
     "data": {
      "text/plain": [
       "array([[ 1,  2,  3,  4],\n",
       "       [ 5,  6,  7,  8],\n",
       "       [ 9, 10, 11, 12],\n",
       "       [13, 14, 15, 16]])"
      ]
     },
     "execution_count": 7,
     "metadata": {},
     "output_type": "execute_result"
    }
   ],
   "source": [
    "num16= np.arange(1, 16 + 1)\n",
    "num16.reshape(4, 4)"
   ]
  },
  {
   "cell_type": "code",
   "execution_count": 101,
   "id": "5d98744c-73b5-44d3-93a6-0353f55055f4",
   "metadata": {},
   "outputs": [
    {
     "name": "stdout",
     "output_type": "stream",
     "text": [
      "[[10 15 20 25]\n",
      " [30 35 40 45]]\n"
     ]
    }
   ],
   "source": [
    "num25= np.arange(10, 50, 5)\n",
    "num25.resize(2, 4) \n",
    "print(num25)"
   ]
  },
  {
   "cell_type": "code",
   "execution_count": 27,
   "id": "f42c9350-9099-4ef5-afb9-e046e417febc",
   "metadata": {},
   "outputs": [
    {
     "name": "stdout",
     "output_type": "stream",
     "text": [
      "max 96\n",
      "min 10\n"
     ]
    }
   ],
   "source": [
    "rand_array = np.random.randint(1, 101, (3, 3))\n",
    "print('max', rand_array.max())  \n",
    "print('min', rand_array.min())"
   ]
  },
  {
   "cell_type": "code",
   "execution_count": 153,
   "id": "2bc3a8e5-ae6c-4eaf-8668-8a3c1abaf340",
   "metadata": {},
   "outputs": [
    {
     "name": "stdout",
     "output_type": "stream",
     "text": [
      "array[:5]:  [0 1 2 3 4]\n",
      "array[::2]:  [ 0  2  4  6  8 10 12 14 16 18 20]\n",
      "array[::-1]:  [20 19 18 17 16 15 14 13 12 11 10  9  8  7  6  5  4  3  2  1  0]\n"
     ]
    }
   ],
   "source": [
    "array = np.arange(0, 21)\n",
    "print('array[:5]: ' , array[:5])\n",
    "print('array[::2]: ' , array[::2])\n",
    "print('array[::-1]: ' , array[::-1])    "
   ]
  },
  {
   "cell_type": "code",
   "execution_count": 105,
   "id": "7f2b5429-82c7-4784-87bd-0f8ac8741095",
   "metadata": {},
   "outputs": [
    {
     "name": "stdout",
     "output_type": "stream",
     "text": [
      "array[1]: [ 5  9  1  2 35]\n",
      "array[3]: [16 49 47 39  3]\n"
     ]
    }
   ],
   "source": [
    "arr = np.random.randint(1, 51, (4, 5))\n",
    "print('array[1]:' , arr[1])\n",
    "print('array[3]:' , arr[3])"
   ]
  },
  {
   "cell_type": "code",
   "execution_count": 211,
   "id": "35d810de-04c5-4c07-805e-eec78bb5b063",
   "metadata": {},
   "outputs": [
    {
     "name": "stdout",
     "output_type": "stream",
     "text": [
      "7\n",
      "8\n"
     ]
    }
   ],
   "source": [
    "\n",
    "rand_array = np.random.randint(0, 101, size = 15)\n",
    "max_index = rand_array.argmax()\n",
    "min_index = rand_array.argmin()\n",
    "print(max_index)\n",
    "print(min_index)\n"
   ]
  }
 ],
 "metadata": {
  "kernelspec": {
   "display_name": "Python [conda env:base] *",
   "language": "python",
   "name": "conda-base-py"
  },
  "language_info": {
   "codemirror_mode": {
    "name": "ipython",
    "version": 3
   },
   "file_extension": ".py",
   "mimetype": "text/x-python",
   "name": "python",
   "nbconvert_exporter": "python",
   "pygments_lexer": "ipython3",
   "version": "3.12.7"
  }
 },
 "nbformat": 4,
 "nbformat_minor": 5
}
